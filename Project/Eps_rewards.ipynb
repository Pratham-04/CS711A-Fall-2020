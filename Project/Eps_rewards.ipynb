{
  "nbformat": 4,
  "nbformat_minor": 0,
  "metadata": {
    "colab": {
      "name": "Eps_rewards.ipynb",
      "provenance": [],
      "authorship_tag": "ABX9TyOA7hIa2NApkZNSg0LqYUay",
      "include_colab_link": true
    },
    "kernelspec": {
      "name": "python3",
      "display_name": "Python 3"
    }
  },
  "cells": [
    {
      "cell_type": "markdown",
      "metadata": {
        "id": "view-in-github",
        "colab_type": "text"
      },
      "source": [
        "<a href=\"https://colab.research.google.com/github/Pratham-04/CS711A-Fall-2020/blob/main/Project/Eps_rewards.ipynb\" target=\"_parent\"><img src=\"https://colab.research.google.com/assets/colab-badge.svg\" alt=\"Open In Colab\"/></a>"
      ]
    },
    {
      "cell_type": "code",
      "metadata": {
        "colab": {
          "base_uri": "https://localhost:8080/"
        },
        "id": "A72b1glV-LxO",
        "outputId": "706ff6af-93b5-4e7b-da19-57e964a90043"
      },
      "source": [
        "from google.colab import drive\n",
        "drive.mount('/content/drive')"
      ],
      "execution_count": 1,
      "outputs": [
        {
          "output_type": "stream",
          "text": [
            "Mounted at /content/drive\n"
          ],
          "name": "stdout"
        }
      ]
    },
    {
      "cell_type": "code",
      "metadata": {
        "colab": {
          "base_uri": "https://localhost:8080/"
        },
        "id": "iyvRxLYz7OwD",
        "outputId": "bf96a2eb-37c4-4cff-d17b-a3b9eeb97a3c"
      },
      "source": [
        "import numpy as np\n",
        "import statistics\n",
        "\n",
        "f = open(r\"/content/drive/MyDrive/CS711A Project/Games/fin_rewards.jpg\")\n",
        "\n",
        "fin_rewards = np.zeros(50000)\n",
        "\n",
        "for i in range(50000):\n",
        "    line = f.readline()\n",
        "    fin_rewards[i] = line\n",
        "\n",
        "mean_rewards = np.zeros(50)\n",
        "for i in range(50):\n",
        "    sum0 = statistics.mean(fin_rewards[1000*i:1000*i + 999])\n",
        "    mean_rewards[i] = sum0\n",
        "    sum0 = 0\n",
        "\n",
        "print(mean_rewards)\n",
        "\n",
        "\n",
        "\n",
        "\n",
        "\n",
        "\n",
        "\n"
      ],
      "execution_count": 2,
      "outputs": [
        {
          "output_type": "stream",
          "text": [
            "[220.28956624 217.59393076 220.54390947 222.82685194 217.82766171\n",
            " 219.49773779 220.86901238 221.0797916  219.10238534 218.3125899\n",
            " 218.87259583 220.46716245 222.17095487 219.24504434 218.75244916\n",
            " 221.32481854 223.31389551 224.00826011 221.57604867 218.2726861\n",
            " 220.15888504 221.82398388 220.0240976  220.58584858 221.36911333\n",
            " 220.37892104 222.04003583 222.10099355 222.84143713 223.51785878\n",
            " 221.12244765 219.56526873 218.95682491 224.26264233 220.77457701\n",
            " 222.00702217 219.4468057  220.52316386 222.55947335 220.31871663\n",
            " 222.94945283 218.72350272 221.63342088 219.39823895 221.89053643\n",
            " 220.76444205 221.6103652  220.94590552 223.63902037 220.79376781]\n"
          ],
          "name": "stdout"
        }
      ]
    },
    {
      "cell_type": "code",
      "metadata": {
        "id": "26UCaTdE3via"
      },
      "source": [
        ""
      ],
      "execution_count": null,
      "outputs": []
    }
  ]
}