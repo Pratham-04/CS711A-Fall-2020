{
 "cells": [
  {
   "cell_type": "code",
   "execution_count": 1,
   "metadata": {
    "scrolled": false
   },
   "outputs": [],
   "source": [
    "import numpy as np\n",
    "\n",
    "p1s = 0\n",
    "p2s = 0\n",
    "TRIALS = 30\n",
    "MEANREW = [20, 12]\n",
    "STDDEV = 1\n",
    "DECAY = 0.95\n",
    "GROWTH = 1.05\n",
    "rew = MEANREW\n",
    "\n",
    "for i in range(TRIALS):\n",
    "#     break\n",
    "    p1r, p2r = list(map(int, input(\"Choices for Round \"+str(i)+\" - \").split()))\n",
    "#     p1r, p2r = list(map(int, svs.readline().split()))\n",
    "    \n",
    "    if p1r == p2r:\n",
    "        a = max(rew[p1r]/2,0)\n",
    "        b = max(rew[p2r]/2,0)\n",
    "        \n",
    "        rew[p1r] = DECAY*DECAY*rew[p1r] + np.random.normal(0,STDDEV,1)[0]\n",
    "        rew[1-p1r] = GROWTH*rew[1-p1r] + np.random.normal(0,STDDEV,1)[0]\n",
    "    else:\n",
    "        a = max(rew[p1r],0)\n",
    "        b = max(rew[p2r],0)\n",
    "        \n",
    "        rew[p1r] = DECAY*rew[p1r] + np.random.normal(0,STDDEV,1)[0]\n",
    "        rew[p2r] = DECAY*rew[p2r] + np.random.normal(0,STDDEV,1)[0]\n",
    "    \n",
    "    p1s += a\n",
    "    p2s += b\n",
    "\n",
    "    print(\"Round \"+str(i)+\" -\", np.round(a,2), np.round(b,2))\n",
    "\n",
    "print(\"Final Cumulative Score - \", p1s, p2s)"
   ]
  }
 ],
 "metadata": {
  "kernelspec": {
   "display_name": "Python 3",
   "language": "python",
   "name": "python3"
  },
  "language_info": {
   "codemirror_mode": {
    "name": "ipython",
    "version": 3
   },
   "file_extension": ".py",
   "mimetype": "text/x-python",
   "name": "python",
   "nbconvert_exporter": "python",
   "pygments_lexer": "ipython3",
   "version": "3.7.1"
  }
 },
 "nbformat": 4,
 "nbformat_minor": 2
}
