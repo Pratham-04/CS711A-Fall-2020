{
 "cells": [
  {
   "cell_type": "code",
   "execution_count": 5,
   "metadata": {
    "scrolled": false
   },
   "outputs": [
    {
     "name": "stdout",
     "output_type": "stream",
     "text": [
      "Round 0 - 12 20\n",
      "Round 1 - 5.92 5.92\n",
      "Round 2 - 11.48 11.48\n",
      "Round 3 - 14.11 19.76\n",
      "Round 4 - 12.82 20.01\n",
      "Round 5 - 19.39 11.25\n",
      "Round 6 - 10.0 10.0\n",
      "Round 7 - 11.04 17.0\n",
      "Round 8 - 8.71 8.71\n",
      "Round 9 - 4.34 4.34\n",
      "Round 10 - 15.86 7.59\n",
      "Round 11 - 8.07 8.07\n",
      "Round 12 - 8.06 8.06\n",
      "Round 13 - 6.31 16.66\n",
      "Round 14 - 15.68 4.87\n",
      "Round 15 - 5.64 15.3\n",
      "Round 16 - 13.88 4.1\n",
      "Round 17 - 3.75 14.83\n",
      "Round 18 - 14.46 2.7\n",
      "Round 19 - 16.7 1.48\n",
      "Round 20 - 0 0\n",
      "Round 21 - 17.46 0\n",
      "Round 22 - 7.84 7.84\n",
      "Round 23 - 14.25 0.9\n",
      "Round 24 - 0.17 0.17\n",
      "Round 25 - 0.06 13.05\n",
      "Round 26 - 0 12.51\n",
      "Round 27 - 6.09 6.09\n",
      "Round 28 - 8.42 0.3\n",
      "Round 29 - 0.32 7.97\n",
      "Final Cumulative Score -  272.79330049830617 260.9430900235884\n"
     ]
    }
   ],
   "source": [
    "import numpy as np\n",
    "\n",
    "p1s = 0\n",
    "p2s = 0\n",
    "TRIALS = 30\n",
    "MEANREW = [20, 12]\n",
    "STDDEV = 1\n",
    "DECAY = 0.95\n",
    "GROWTH = 1.05\n",
    "rew = MEANREW\n",
    "\n",
    "for i in range(TRIALS):\n",
    "#     break\n",
    "    p1r, p2r = list(map(int, input(\"Choices for Round \"+str(i)+\" - \").split()))\n",
    "#     p1r, p2r = list(map(int, svs.readline().split()))\n",
    "    \n",
    "    if p1r == p2r:\n",
    "        a = max(rew[p1r]/2,0)\n",
    "        b = max(rew[p2r]/2,0)\n",
    "        \n",
    "        rew[p1r] = DECAY*DECAY*rew[p1r] + np.random.normal(0,STDDEV,1)[0]\n",
    "        rew[1-p1r] = GROWTH*rew[1-p1r] + np.random.normal(0,STDDEV,1)[0]\n",
    "    else:\n",
    "        a = max(rew[p1r],0)\n",
    "        b = max(rew[p2r],0)\n",
    "        \n",
    "        rew[p1r] = DECAY*rew[p1r] + np.random.normal(0,STDDEV,1)[0]\n",
    "        rew[p2r] = DECAY*rew[p2r] + np.random.normal(0,STDDEV,1)[0]\n",
    "    \n",
    "    p1s += a\n",
    "    p2s += b\n",
    "\n",
    "    print(\"Round \"+str(i)+\" -\", np.round(a,2), np.round(b,2))\n",
    "\n",
    "print(\"Final Cumulative Score - \", p1s, p2s)"
   ]
  }
 ],
 "metadata": {
  "kernelspec": {
   "display_name": "Python 3",
   "language": "python",
   "name": "python3"
  },
  "language_info": {
   "codemirror_mode": {
    "name": "ipython",
    "version": 3
   },
   "file_extension": ".py",
   "mimetype": "text/x-python",
   "name": "python",
   "nbconvert_exporter": "python",
   "pygments_lexer": "ipython3",
   "version": "3.7.1"
  }
 },
 "nbformat": 4,
 "nbformat_minor": 2
}
